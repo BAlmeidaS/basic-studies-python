{
 "cells": [
  {
   "cell_type": "markdown",
   "metadata": {},
   "source": [
    "## TestCase\n",
    "groups together related test functions"
   ]
  },
  {
   "cell_type": "markdown",
   "metadata": {},
   "source": [
    "##  Fixtures\n",
    "code run before and/or after each test function"
   ]
  },
  {
   "cell_type": "markdown",
   "metadata": {},
   "source": [
    "## Assertions\n",
    "specific tests for conditions and behaviors"
   ]
  },
  {
   "cell_type": "markdown",
   "metadata": {},
   "source": [
    "## PDB\n",
    "running a python script with pdb flag can be useful to see the import behavior\n",
    "\n",
    "`python3 -m pdb <name_of_python_script>`"
   ]
  },
  {
   "cell_type": "markdown",
   "metadata": {},
   "source": [
    "## VENV or Virtualenv\n",
    "\n",
    "\n",
    "creating a virtualenv: `python3 -m venv venv3`\n",
    "\n",
    "using a virtualenv: `source venv3/bin/activate`\n",
    "\n",
    "leave virtualben: `deativate`"
   ]
  },
  {
   "cell_type": "markdown",
   "metadata": {},
   "source": [
    "## Creating a package - package *distutils*\n",
    "\n",
    "Creating a **setup.py** on project folder\n",
    "\n",
    "On this file specify it as:\n",
    "\n",
    "```\n",
    "from distutils.core import setup\n",
    "\n",
    "setup(\n",
    "    name='some_name',\n",
    "    version='1.0',\n",
    "    py_modules=['a_module_that_must_be_installed'],\n",
    "    \n",
    "    # some metadatas\n",
    "    # ...\n",
    ")\n",
    "```\n",
    "\n",
    "To running a installation: `python setup.py install`\n",
    "\n",
    "To generate a zip file: `python setup.py sdist --format zip`\n",
    "\n",
    "To see all options distutils presents: `python setup.py --help`\n",
    "\n"
   ]
  },
  {
   "cell_type": "markdown",
   "metadata": {},
   "source": [
    "## PIP\n",
    "\n",
    "Pip can install compresed files generated using distutils: `pip install <zip_file>.zip`"
   ]
  }
 ],
 "metadata": {
  "kernelspec": {
   "display_name": "Python 3",
   "language": "python",
   "name": "python3"
  },
  "language_info": {
   "codemirror_mode": {
    "name": "ipython",
    "version": 3
   },
   "file_extension": ".py",
   "mimetype": "text/x-python",
   "name": "python",
   "nbconvert_exporter": "python",
   "pygments_lexer": "ipython3",
   "version": "3.6.4"
  }
 },
 "nbformat": 4,
 "nbformat_minor": 2
}
