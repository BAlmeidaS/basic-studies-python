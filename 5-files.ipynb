{
 "cells": [
  {
   "cell_type": "code",
   "execution_count": 6,
   "metadata": {},
   "outputs": [
    {
     "name": "stdout",
     "output_type": "stream",
     "text": [
      "The autoreload extension is already loaded. To reload it, use:\n",
      "  %reload_ext autoreload\n"
     ]
    }
   ],
   "source": [
    "%load_ext autoreload\n",
    "%autoreload 2"
   ]
  },
  {
   "cell_type": "code",
   "execution_count": 7,
   "metadata": {},
   "outputs": [
    {
     "data": {
      "text/plain": [
       "'utf-8'"
      ]
     },
     "execution_count": 7,
     "metadata": {},
     "output_type": "execute_result"
    }
   ],
   "source": [
    "import sys\n",
    "from pprint import pprint as pp\n",
    "sys.getdefaultencoding()"
   ]
  },
  {
   "cell_type": "code",
   "execution_count": 8,
   "metadata": {},
   "outputs": [],
   "source": [
    "f = open('about_files/wasteland.txt', mode='wt', encoding='utf-8')\n",
    "f.write('a useless text I will write\\n')\n",
    "f.write('and I am going try to rhyme\\n')\n",
    "f.write('so forgive me for those lines\\n')\n",
    "f.close() #It is on THIS close, that those lines is going to be saved on the file!!!"
   ]
  },
  {
   "cell_type": "markdown",
   "metadata": {},
   "source": [
    "obs: `write()` returns the number of `codepoints`, not the number of bytes. Even in most of the time they are the same, sometime it is not. "
   ]
  },
  {
   "cell_type": "code",
   "execution_count": 9,
   "metadata": {},
   "outputs": [
    {
     "name": "stdout",
     "output_type": "stream",
     "text": [
      "a useless text I will write\n",
      "\n",
      "and I am going try to rhyme\n",
      "so forgive me for those lines\n",
      "\n",
      "-----\n",
      "\n",
      "a useless text I will write\n",
      "and I am going try to rhyme\n",
      "so forgive me for those lines\n",
      "\n"
     ]
    }
   ],
   "source": [
    "g = open('about_files/wasteland.txt', mode='rt', encoding='utf-8')\n",
    "print(g.read(27))\n",
    "print(g.read())\n",
    "print(\"-----\")\n",
    "print(g.read())\n",
    "\n",
    "g.seek(0)\n",
    "print(g.read())"
   ]
  },
  {
   "cell_type": "code",
   "execution_count": 10,
   "metadata": {},
   "outputs": [
    {
     "name": "stdout",
     "output_type": "stream",
     "text": [
      "a useless text I will write\n",
      "\n",
      "['a useless text I will write\\n',\n",
      " 'and I am going try to rhyme\\n',\n",
      " 'so forgive me for those lines\\n']\n"
     ]
    }
   ],
   "source": [
    "g.seek(0)\n",
    "print(g.readline())\n",
    "\n",
    "g.seek(0)\n",
    "pp(g.readlines())\n",
    "\n",
    "g.close()"
   ]
  },
  {
   "cell_type": "code",
   "execution_count": 11,
   "metadata": {},
   "outputs": [],
   "source": [
    "h = open('about_files/wasteland.txt', mode='at', encoding='utf-8')\n",
    "h.writelines(\n",
    "    ['I will continue with my poem\\n',\n",
    "     'Cause this must be growing\\n',\n",
    "     'until the file is open\\n'])\n",
    "h.close()\n"
   ]
  },
  {
   "cell_type": "code",
   "execution_count": 12,
   "metadata": {},
   "outputs": [],
   "source": [
    "#other way to open files, more idiomatic way\n",
    "\n",
    "with open('about_files/wasteland.txt', mode='at', encoding='utf-8') as f:\n",
    "    f.writelines(['some end line\\n'])\n"
   ]
  },
  {
   "cell_type": "code",
   "execution_count": 13,
   "metadata": {},
   "outputs": [],
   "source": [
    "import about_files.bmp as bmp\n",
    "\n",
    "pixels = bmp.mandelbrot(448, 256)\n",
    "bmp.write_grayscale('mandel.bmp', pixels)"
   ]
  },
  {
   "cell_type": "code",
   "execution_count": 16,
   "metadata": {},
   "outputs": [
    {
     "data": {
      "text/plain": [
       "(448, 256)"
      ]
     },
     "execution_count": 16,
     "metadata": {},
     "output_type": "execute_result"
    }
   ],
   "source": [
    "bmp.dimensions('mandel.bmp')"
   ]
  },
  {
   "cell_type": "markdown",
   "metadata": {},
   "source": [
    "## File Like Objects"
   ]
  },
  {
   "cell_type": "code",
   "execution_count": 17,
   "metadata": {},
   "outputs": [
    {
     "data": {
      "text/plain": [
       "[6, 7, 6, 6, 5, 5, 3]"
      ]
     },
     "execution_count": 17,
     "metadata": {},
     "output_type": "execute_result"
    }
   ],
   "source": [
    "def words_per_line(flo):\n",
    "    return [len(line.split()) for line in flo.readlines()]\n",
    "\n",
    "with open('about_files/wasteland.txt', mode='rt', encoding='utf-8') as real_file:\n",
    "    wpl = words_per_line(real_file)\n",
    "\n",
    "wpl"
   ]
  },
  {
   "cell_type": "code",
   "execution_count": 18,
   "metadata": {},
   "outputs": [
    {
     "data": {
      "text/plain": [
       "_io.TextIOWrapper"
      ]
     },
     "execution_count": 18,
     "metadata": {},
     "output_type": "execute_result"
    }
   ],
   "source": [
    "type(real_file)"
   ]
  },
  {
   "cell_type": "code",
   "execution_count": 20,
   "metadata": {},
   "outputs": [
    {
     "data": {
      "text/plain": [
       "[6, 6, 6, 6, 6, 6, 6, 6, 6, 6, 5, 5, 7, 8, 14, 12, 8]"
      ]
     },
     "execution_count": 20,
     "metadata": {},
     "output_type": "execute_result"
    }
   ],
   "source": [
    "from urllib.request import urlopen\n",
    "\n",
    "with urlopen('http://sixty-north.com/c/t.txt') as web_file:\n",
    "    wpl = words_per_line(web_file)\n",
    "    \n",
    "wpl"
   ]
  },
  {
   "cell_type": "code",
   "execution_count": 21,
   "metadata": {},
   "outputs": [
    {
     "data": {
      "text/plain": [
       "http.client.HTTPResponse"
      ]
     },
     "execution_count": 21,
     "metadata": {},
     "output_type": "execute_result"
    }
   ],
   "source": [
    "type(web_file)"
   ]
  },
  {
   "cell_type": "markdown",
   "metadata": {},
   "source": [
    "## Closing context"
   ]
  },
  {
   "cell_type": "code",
   "execution_count": 26,
   "metadata": {},
   "outputs": [
    {
     "name": "stdout",
     "output_type": "stream",
     "text": [
      "Open fridge door.\n",
      "Finding bacon...\n",
      "Taking bacon.\n",
      "Close fridge door.\n"
     ]
    }
   ],
   "source": [
    "import about_files.fridge as fridge\n",
    "\n",
    "fridge.raid_without_with(\"bacon\")"
   ]
  },
  {
   "cell_type": "code",
   "execution_count": 27,
   "metadata": {},
   "outputs": [
    {
     "name": "stdout",
     "output_type": "stream",
     "text": [
      "Open fridge door.\n",
      "Finding bacon...\n",
      "Taking bacon.\n",
      "Close fridge door.\n"
     ]
    }
   ],
   "source": [
    "fridge.raid(\"bacon\")"
   ]
  }
 ],
 "metadata": {
  "kernelspec": {
   "display_name": "Python 3",
   "language": "python",
   "name": "python3"
  },
  "language_info": {
   "codemirror_mode": {
    "name": "ipython",
    "version": 3
   },
   "file_extension": ".py",
   "mimetype": "text/x-python",
   "name": "python",
   "nbconvert_exporter": "python",
   "pygments_lexer": "ipython3",
   "version": "3.6.4"
  }
 },
 "nbformat": 4,
 "nbformat_minor": 2
}
