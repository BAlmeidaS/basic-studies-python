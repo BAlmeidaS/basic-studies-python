{
 "cells": [
  {
   "cell_type": "code",
   "execution_count": 31,
   "metadata": {},
   "outputs": [
    {
     "data": {
      "text/plain": [
       "'utf-8'"
      ]
     },
     "execution_count": 31,
     "metadata": {},
     "output_type": "execute_result"
    }
   ],
   "source": [
    "import sys\n",
    "from pprint import pprint as pp\n",
    "sys.getdefaultencoding()"
   ]
  },
  {
   "cell_type": "code",
   "execution_count": 32,
   "metadata": {},
   "outputs": [],
   "source": [
    "f = open('about_files/wasteland.txt', mode='wt', encoding='utf-8')\n",
    "f.write('a useless text I will write\\n')\n",
    "f.write('and I am going try to rhyme\\n')\n",
    "f.write('so forgive me for those lines\\n')\n",
    "f.close() #It is on THIS close, that those lines is going to be saved on the file!!!"
   ]
  },
  {
   "cell_type": "markdown",
   "metadata": {},
   "source": [
    "obs: `write()` returns the number of `codepoints`, not the number of bytes. Even in most of the time they are the same, sometime it is not. "
   ]
  },
  {
   "cell_type": "code",
   "execution_count": 33,
   "metadata": {},
   "outputs": [
    {
     "name": "stdout",
     "output_type": "stream",
     "text": [
      "a useless text I will write\n",
      "\n",
      "and I am going try to rhyme\n",
      "so forgive me for those lines\n",
      "\n",
      "-----\n",
      "\n",
      "a useless text I will write\n",
      "and I am going try to rhyme\n",
      "so forgive me for those lines\n",
      "\n"
     ]
    }
   ],
   "source": [
    "g = open('about_files/wasteland.txt', mode='rt', encoding='utf-8')\n",
    "print(g.read(27))\n",
    "print(g.read())\n",
    "print(\"-----\")\n",
    "print(g.read())\n",
    "\n",
    "g.seek(0)\n",
    "print(g.read())"
   ]
  },
  {
   "cell_type": "code",
   "execution_count": 34,
   "metadata": {},
   "outputs": [
    {
     "name": "stdout",
     "output_type": "stream",
     "text": [
      "a useless text I will write\n",
      "\n",
      "['a useless text I will write\\n',\n",
      " 'and I am going try to rhyme\\n',\n",
      " 'so forgive me for those lines\\n']\n"
     ]
    }
   ],
   "source": [
    "g.seek(0)\n",
    "print(g.readline())\n",
    "\n",
    "g.seek(0)\n",
    "pp(g.readlines())\n",
    "\n",
    "g.close()"
   ]
  },
  {
   "cell_type": "code",
   "execution_count": 35,
   "metadata": {},
   "outputs": [],
   "source": [
    "h = open('about_files/wasteland.txt', mode='at', encoding='utf-8')\n",
    "h.writelines(\n",
    "    ['I will continue with my poem\\n',\n",
    "     'Cause this must be growing\\n',\n",
    "     'until the file is open\\n'])\n",
    "h.close()\n"
   ]
  }
 ],
 "metadata": {
  "kernelspec": {
   "display_name": "Python 3",
   "language": "python",
   "name": "python3"
  },
  "language_info": {
   "codemirror_mode": {
    "name": "ipython",
    "version": 3
   },
   "file_extension": ".py",
   "mimetype": "text/x-python",
   "name": "python",
   "nbconvert_exporter": "python",
   "pygments_lexer": "ipython3",
   "version": "3.6.4"
  }
 },
 "nbformat": 4,
 "nbformat_minor": 2
}
